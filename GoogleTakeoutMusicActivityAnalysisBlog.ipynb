{
 "cells": [
  {
   "cell_type": "code",
   "execution_count": null,
   "metadata": {},
   "outputs": [],
   "source": [
    "import requests\n",
    "import json\n",
    "import pandas as pd\n",
    "from pandas.io.json import json_normalize \n",
    "import matplotlib.pyplot as plt\n",
    "\n",
    "\n",
    "r = requests.get(r'https://raw.githubusercontent.com/FinancialRADDeveloper/GoogleMusicDataAnalysis/master/takeout_data/My%20Activity/Google%20Play%20Music/My%20Activity.json')\n",
    "activity_data_frame = json_normalize(r.json())\n",
    "\n",
    "listened_to_dataframe = activity_data_frame[activity_data_frame['title'].str.contains(\"Listened to\")]\n",
    "\n",
    "display(listened_to_dataframe.sample(10))\n",
    "\n",
    "listened_to_dataframe['activity_datetime'] = pd.to_datetime(listened_to_dataframe['time']).copy()\n",
    "\n",
    "daily_stats = listened_to_dataframe['activity_datetime'].dt.date.value_counts()\n",
    "daily_stats_sorted = daily_stats.sort_values(ascending=True)\n",
    "daily_stats_sorted.plot(legend=True)\n"
   ]
  },
  {
   "cell_type": "code",
   "execution_count": null,
   "metadata": {},
   "outputs": [],
   "source": [
    "display(daily_stats_sorted.head(3))\n",
    "max_date = listened_to_dataframe['activity_datetime'].max()\n",
    "min_date = listened_to_dataframe['activity_datetime'].min()\n",
    "\n",
    "days = (max_date - min_date).days\n",
    "\n",
    "display(days)"
   ]
  },
  {
   "cell_type": "code",
   "execution_count": null,
   "metadata": {},
   "outputs": [],
   "source": []
  }
 ],
 "metadata": {
  "kernelspec": {
   "display_name": "Python 3",
   "language": "python",
   "name": "python3"
  },
  "language_info": {
   "codemirror_mode": {
    "name": "ipython",
    "version": 3
   },
   "file_extension": ".py",
   "mimetype": "text/x-python",
   "name": "python",
   "nbconvert_exporter": "python",
   "pygments_lexer": "ipython3",
   "version": "3.7.3"
  }
 },
 "nbformat": 4,
 "nbformat_minor": 2
}
