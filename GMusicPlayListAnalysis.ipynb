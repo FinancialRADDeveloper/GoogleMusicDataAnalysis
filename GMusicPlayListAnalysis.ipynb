{
 "cells": [
  {
   "cell_type": "code",
   "execution_count": null,
   "metadata": {},
   "outputs": [],
   "source": [
    "from IPython.core.display import display, HTML\n",
    "display(HTML(\"<style>.container { width:100% !important; }</style>\"))\n",
    "import pandas as pd\n",
    "import seaborn as sns\n",
    "import numpy as np\n",
    "import os\n",
    "\n",
    "directory = 'C:/Users/alan__000/PycharmProjects/GoogleMusicDataAnalysis/takeout_data/Google Play Music/PlayLists'\n",
    "\n",
    "csv_files = []\n",
    "  \n",
    "for root,dirs,files in os.walk(directory):\n",
    "    for file in files:\n",
    "        if dirs!= ['Tracks']:\n",
    "            full_filepath = '{}{}/{}'.format(root, dirs if len(dirs) > 0 else '', file)\n",
    "            csv_files.append(full_filepath)\n"
   ]
  },
  {
   "cell_type": "code",
   "execution_count": null,
   "metadata": {},
   "outputs": [],
   "source": [
    "display(csv_files[:20])"
   ]
  },
  {
   "cell_type": "code",
   "execution_count": null,
   "metadata": {},
   "outputs": [],
   "source": [
    "combined_csv = []\n",
    "\n",
    "for i, csv_file in enumerate(csv_files):\n",
    "    \n",
    "    # print('file: {}'.format(csv_file))\n",
    "    \n",
    "    try:\n",
    "        x = pd.read_csv(csv_file)\n",
    "\n",
    "        df_columns = list(x.columns)\n",
    "\n",
    "        if 'Artist' in df_columns:\n",
    "\n",
    "            if not pd.isna(x['Artist'].values) and x['Play Count'][0] > 0:\n",
    "                #display(x)\n",
    "                combined_csv.append(x)\n",
    "        else:\n",
    "            print('Rejected DataFrame')\n",
    "            display(x.head(2))\n",
    "    except Exception:\n",
    "        # print(\"Error reading csv file :'{}''\".format(csv_file) )\n",
    "        # we don't care this is garbage at the moment\n",
    "        pass\n",
    "    \n",
    "\n",
    "display(len(combined_csv))\n",
    "        \n",
    "combined_df = pd.concat(combined_csv)"
   ]
  },
  {
   "cell_type": "code",
   "execution_count": null,
   "metadata": {},
   "outputs": [],
   "source": [
    "combined_df.sort_values('Play Count', ascending=False, inplace=True)\n",
    "display(combined_df)"
   ]
  },
  {
   "cell_type": "code",
   "execution_count": null,
   "metadata": {},
   "outputs": [],
   "source": [
    "combined_df = combined_df.fillna(0)\n",
    "\n",
    "headers_that_arent_playcount = list(combined_df.columns)\n",
    "display(headers_that_arent_playcount)\n",
    "headers_that_arent_playcount.remove('Play Count')\n",
    "headers_that_arent_playcount.remove('Playlist Index')\n",
    "display(headers_that_arent_playcount)\n",
    "\n",
    "merged_df = combined_df.groupby(headers_that_arent_playcount, as_index=False)['Play Count'].mean()\n",
    "merged_df.sort_values('Play Count', ascending=False, inplace=True)\n",
    "display(merged_df)"
   ]
  },
  {
   "cell_type": "markdown",
   "metadata": {},
   "source": [
    "Now show the number of track listens by Artists that we have via playlists, which hopefully will account for the activity vs tracks totals we have seen in the other notebooks "
   ]
  },
  {
   "cell_type": "code",
   "execution_count": null,
   "metadata": {},
   "outputs": [],
   "source": [
    "total_artist_df = merged_df.groupby('Artist', as_index=False)['Play Count'].sum()\n",
    "total_artist_df.sort_values('Play Count', ascending=False, inplace=True)\n",
    "display(total_artist_df)"
   ]
  }
 ],
 "metadata": {
  "kernelspec": {
   "display_name": "Python 3",
   "language": "python",
   "name": "python3"
  },
  "language_info": {
   "codemirror_mode": {
    "name": "ipython",
    "version": 3
   },
   "file_extension": ".py",
   "mimetype": "text/x-python",
   "name": "python",
   "nbconvert_exporter": "python",
   "pygments_lexer": "ipython3",
   "version": "3.7.3"
  }
 },
 "nbformat": 4,
 "nbformat_minor": 2
}
