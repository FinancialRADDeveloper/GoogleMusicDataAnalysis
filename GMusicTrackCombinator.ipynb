{
 "cells": [
  {
   "cell_type": "markdown",
   "metadata": {},
   "source": [
    "SetWidth to 100% ( f knows why this isn't default )"
   ]
  },
  {
   "cell_type": "code",
   "execution_count": 27,
   "metadata": {},
   "outputs": [
    {
     "data": {
      "text/html": [
       "<style>.container { width:100% !important; }</style>"
      ],
      "text/plain": [
       "<IPython.core.display.HTML object>"
      ]
     },
     "metadata": {},
     "output_type": "execute_result"
    }
   ],
   "source": [
    "from IPython.core.display import display, HTML\n",
    "display(HTML(\"<style>.container { width:100% !important; }</style>\"))"
   ]
  },
  {
   "cell_type": "code",
   "execution_count": 25,
   "metadata": {},
   "outputs": [
    {
     "name": "stdout",
     "output_type": "stream",
     "text": [
      "C:\\Users\\alan__000\\PycharmProjects\\GoogleMusicDataAnalysis\n"
     ]
    }
   ],
   "source": [
    "!cd\n",
    "# !dir('\\\\takeout_data')"
   ]
  },
  {
   "cell_type": "code",
   "execution_count": 26,
   "metadata": {},
   "outputs": [
    {
     "name": "stdout",
     "output_type": "stream",
     "text": [
      "1\n",
      "['.']\n",
      "0\n"
     ]
    }
   ],
   "source": [
    "# import pandas as pd\n",
    "\n",
    "# lets get the list of csv files from the folder\n",
    "\n",
    "\n",
    "\n",
    "filenames = ''\n",
    "\n",
    "import glob\n",
    "filenames = glob.glob('/takeout_data/My Activity/Google Play Music/Tracks/*.*')\n",
    "# print(filenames)\n",
    "\n",
    "filename_1 =  glob.glob('.')\n",
    "print(len(filename_1))\n",
    "print(filename_1)\n",
    "print(len(filenames))\n",
    "#combined_csv = pd.concat( [ pd.read_csv(f) for f in filenames ] )\n",
    "# And if you want to export it to a single csv file, use this:\n",
    "# combined_csv.to_csv( \"combined_csv.csv\", index=False )\n",
    "# combine these csv into one large pandas DataFrame\n",
    "# ask some questions of this data and start to work out how to interpret this vs the Acivity TakeOut\n"
   ]
  },
  {
   "cell_type": "code",
   "execution_count": null,
   "metadata": {},
   "outputs": [],
   "source": []
  },
  {
   "cell_type": "code",
   "execution_count": null,
   "metadata": {},
   "outputs": [
    {
     "data": {
      "text/html": [
       "<style>.container { width:100% !important; }</style>"
      ],
      "text/plain": [
       "<IPython.core.display.HTML object>"
      ]
     },
     "metadata": {},
     "output_type": "execute_result"
    },
    {
     "name": "stdout",
     "output_type": "stream",
     "text": [
      "14646\n",
      "100th Artist found: ['1838 Chopin - Polonaise in A, Op.40 No.3, &quot;Military&quot;']. Processing 300/14646\n",
      "100th Artist found: ['Mitchell &amp; Webb']. Processing 400/14646\n",
      "100th Artist found: ['Delerium']. Processing 700/14646\n",
      "100th Artist found: ['Michael Bublé']. Processing 800/14646\n",
      "100th Artist found: ['The Choir of King&#39;s College, Cambridge']. Processing 1000/14646\n",
      "100th Artist found: ['Alice Kirwan']. Processing 1300/14646\n",
      "100th Artist found: ['Bonobo']. Processing 1800/14646\n",
      "100th Artist found: ['Aretha Franklin']. Processing 2200/14646\n",
      "100th Artist found: ['Squeeze']. Processing 2800/14646\n",
      "100th Artist found: ['Eddie Izzard']. Processing 2900/14646\n",
      "100th Artist found: ['Livin&#39; Joy']. Processing 3300/14646\n",
      "100th Artist found: ['Jim Gaffigan']. Processing 3800/14646\n",
      "100th Artist found: ['New Order']. Processing 3900/14646\n",
      "100th Artist found: ['Les Elgart']. Processing 4000/14646\n",
      "100th Artist found: ['Bastille']. Processing 4500/14646\n",
      "100th Artist found: ['The Adventures of Duane &amp; BrandO']. Processing 4700/14646\n",
      "100th Artist found: ['Roky Erickson']. Processing 4900/14646\n",
      "100th Artist found: ['The Lumineers']. Processing 5000/14646\n",
      "100th Artist found: ['Afroman']. Processing 5200/14646\n",
      "100th Artist found: ['Jerry Reed']. Processing 5400/14646\n",
      "100th Artist found: ['Squeeze']. Processing 5500/14646\n",
      "100th Artist found: ['Jim Gaffigan']. Processing 6000/14646\n",
      "100th Artist found: ['Beth']. Processing 6600/14646\n",
      "100th Artist found: ['David Guetta']. Processing 7100/14646\n",
      "100th Artist found: ['Berliner Philharmoniker, Ernst Senff Chor and Carlo Maria Giulini']. Processing 7500/14646\n",
      "100th Artist found: ['Eddie Izzard']. Processing 8000/14646\n",
      "100th Artist found: ['The Who']. Processing 8700/14646\n",
      "100th Artist found: ['Calvin Harris feat. HAIM']. Processing 9100/14646\n",
      "100th Artist found: ['Maor Levi']. Processing 9500/14646\n",
      "100th Artist found: ['Great White']. Processing 9700/14646\n",
      "100th Artist found: ['Royal Philharmonic Orchestra']. Processing 9900/14646\n",
      "100th Artist found: ['Phil Collins And Marilyn Martin']. Processing 10100/14646\n",
      "100th Artist found: ['Blackberry Smoke']. Processing 10200/14646\n",
      "100th Artist found: ['Aziz Ansari']. Processing 10400/14646\n",
      "100th Artist found: ['Bert Kaempfert']. Processing 10500/14646\n",
      "100th Artist found: ['U2']. Processing 10600/14646\n"
     ]
    }
   ],
   "source": [
    "from IPython.core.display import display, HTML\n",
    "display(HTML(\"<style>.container { width:100% !important; }</style>\"))\n",
    "\n",
    "from IPython.core.interactiveshell import InteractiveShell\n",
    "InteractiveShell.ast_node_interactivity = \"all\"\n",
    "\n",
    "import os\n",
    "\n",
    "directory = 'C:\\\\Users\\\\alan__000\\\\PycharmProjects\\\\GoogleMusicDataAnalysis\\\\takeout_data\\\\Google Play Music\\\\Tracks'\n",
    "\n",
    "csv_files = []\n",
    "\n",
    "for root,dirs,files in os.walk(directory):\n",
    "    for file in files:\n",
    "       if file.endswith(\".csv\"):\n",
    "            csv_files.append(directory + \"\\\\\" + file)\n",
    "            \n",
    "print(len(csv_files))\n",
    "# print(csv_files[:20])\n",
    "import pandas as pd\n",
    "import numpy as np\n",
    "\n",
    "# i know this is less pythonic but I need to see this working / check it. \n",
    "# also I may be able to use a progress bar this way\n",
    "\n",
    "combined_csv = []\n",
    "\n",
    "total = len(csv_files)\n",
    "\n",
    "for i, csv_file in enumerate(csv_files):\n",
    "    \n",
    "    # print('file: {}'.format(csv_file))\n",
    "    x = pd.read_csv(csv_file)\n",
    "     \n",
    "    if not pd.isna(x['Artist'].values) and x['Play Count'][0] > 0:\n",
    "        \n",
    "        if i % 100 == 0:\n",
    "            print('100th Artist found: {}. Processing {}/{}'.format(x['Artist'].values, i, total))   \n",
    "    \n",
    "        # print(x['Play Count'][0])\n",
    "    \n",
    "        combined_csv.append(x)\n",
    "        \n",
    "        \n",
    "\n",
    "combined_df = pd.concat(combined_csv)\n",
    "\n",
    "# combined_df_better = pd.concat([pd.read_csv(f) for f in csv_files[:10]])\n"
   ]
  },
  {
   "cell_type": "code",
   "execution_count": 60,
   "metadata": {
    "scrolled": true
   },
   "outputs": [
    {
     "data": {
      "text/html": [
       "<div>\n",
       "<style scoped>\n",
       "    .dataframe tbody tr th:only-of-type {\n",
       "        vertical-align: middle;\n",
       "    }\n",
       "\n",
       "    .dataframe tbody tr th {\n",
       "        vertical-align: top;\n",
       "    }\n",
       "\n",
       "    .dataframe thead th {\n",
       "        text-align: right;\n",
       "    }\n",
       "</style>\n",
       "<table border=\"1\" class=\"dataframe\">\n",
       "  <thead>\n",
       "    <tr style=\"text-align: right;\">\n",
       "      <th></th>\n",
       "      <th>Title</th>\n",
       "      <th>Album</th>\n",
       "      <th>Artist</th>\n",
       "      <th>Duration (ms)</th>\n",
       "      <th>Rating</th>\n",
       "      <th>Play Count</th>\n",
       "      <th>Removed</th>\n",
       "    </tr>\n",
       "  </thead>\n",
       "  <tbody>\n",
       "    <tr>\n",
       "      <th>0</th>\n",
       "      <td>(Darlin&amp;#39;) You Know I Love You</td>\n",
       "      <td>What&amp;#39;s Love Got To Do With It</td>\n",
       "      <td>Tina Turner</td>\n",
       "      <td>269000</td>\n",
       "      <td>0</td>\n",
       "      <td>1</td>\n",
       "      <td>NaN</td>\n",
       "    </tr>\n",
       "  </tbody>\n",
       "</table>\n",
       "</div>"
      ],
      "text/plain": [
       "                               Title                              Album  \\\n",
       "0  (Darlin&#39;) You Know I Love You  What&#39;s Love Got To Do With It   \n",
       "\n",
       "        Artist  Duration (ms)  Rating  Play Count  Removed  \n",
       "0  Tina Turner         269000       0           1      NaN  "
      ]
     },
     "execution_count": 60,
     "metadata": {},
     "output_type": "execute_result"
    }
   ],
   "source": [
    "combined_df"
   ]
  },
  {
   "cell_type": "code",
   "execution_count": null,
   "metadata": {},
   "outputs": [],
   "source": []
  }
 ],
 "metadata": {
  "kernelspec": {
   "display_name": "Python 3",
   "language": "python",
   "name": "python3"
  }
 },
 "nbformat": 4,
 "nbformat_minor": 2
}
