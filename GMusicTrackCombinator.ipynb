{
 "cells": [
  {
   "cell_type": "markdown",
   "metadata": {},
   "source": [
    "SetWidth to 100% ( f knows why this isn't default )"
   ]
  },
  {
   "cell_type": "code",
   "execution_count": null,
   "metadata": {},
   "outputs": [],
   "source": [
    "from IPython.core.display import display, HTML\n",
    "display(HTML(\"<style>.container { width:100% !important; }</style>\"))"
   ]
  },
  {
   "cell_type": "code",
   "execution_count": null,
   "metadata": {},
   "outputs": [],
   "source": [
    "!cd\n",
    "# !dir('\\\\takeout_data')"
   ]
  },
  {
   "cell_type": "code",
   "execution_count": null,
   "metadata": {},
   "outputs": [],
   "source": [
    "# import pandas as pd\n",
    "\n",
    "# lets get the list of csv files from the folder\n",
    "\n",
    "\n",
    "\n",
    "filenames = ''\n",
    "\n",
    "import glob\n",
    "filenames = glob.glob('/takeout_data/My Activity/Google Play Music/Tracks/*.*')\n",
    "# print(filenames)\n",
    "\n",
    "filename_1 =  glob.glob('.')\n",
    "print(len(filename_1))\n",
    "print(filename_1)\n",
    "print(len(filenames))\n",
    "#combined_csv = pd.concat( [ pd.read_csv(f) for f in filenames ] )\n",
    "# And if you want to export it to a single csv file, use this:\n",
    "# combined_csv.to_csv( \"combined_csv.csv\", index=False )\n",
    "# combine these csv into one large pandas DataFrame\n",
    "# ask some questions of this data and start to work out how to interpret this vs the Acivity TakeOut\n"
   ]
  },
  {
   "cell_type": "code",
   "execution_count": null,
   "metadata": {},
   "outputs": [],
   "source": []
  },
  {
   "cell_type": "code",
   "execution_count": null,
   "metadata": {},
   "outputs": [],
   "source": [
    "import os\n",
    "\n",
    "# change as required, obviously\n",
    "directory = 'C:\\\\Users\\\\alan__000\\\\PycharmProjects\\\\GoogleMusicDataAnalysis\\\\takeout_data\\\\Google Play Music\\\\Tracks'\n",
    "\n",
    "csv_files = []\n",
    "\n",
    "for root,dirs,files in os.walk(directory):\n",
    "    for file in files:\n",
    "       if file.endswith(\".csv\"):\n",
    "            csv_files.append(directory + \"\\\\\" + file)\n",
    "            \n",
    "print(len(csv_files))"
   ]
  },
  {
   "cell_type": "code",
   "execution_count": null,
   "metadata": {
    "scrolled": false
   },
   "outputs": [],
   "source": [
    "from IPython.core.display import display, HTML\n",
    "display(HTML(\"<style>.container { width:100% !important; }</style>\"))\n",
    "\n",
    "from IPython.core.interactiveshell import InteractiveShell\n",
    "InteractiveShell.ast_node_interactivity = \"all\"\n",
    "\n",
    "import os\n",
    "\n",
    "# change as required, obviously\n",
    "directory = 'C:\\\\Users\\\\alan__000\\\\PycharmProjects\\\\GoogleMusicDataAnalysis\\\\takeout_data\\\\Google Play Music\\\\Tracks'\n",
    "\n",
    "csv_files = []\n",
    "\n",
    "for root,dirs,files in os.walk(directory):\n",
    "    for file in files:\n",
    "       if file.endswith(\".csv\"):\n",
    "            csv_files.append(directory + \"\\\\\" + file)\n",
    "            \n",
    "print(len(csv_files))\n",
    "# print(csv_files[:20])\n",
    "import pandas as pd\n",
    "# i know this is less pythonic but I need to see this working / check it. \n",
    "# also I may be able to use a progress bar this way\n",
    "\n",
    "combined_csv = []\n",
    "total = len(csv_files)\n",
    "\n",
    "for i, csv_file in enumerate(csv_files):\n",
    "    \n",
    "    x = pd.read_csv(csv_file)\n",
    "     \n",
    "    if not pd.isna(x['Artist'].values) and x['Play Count'][0] > 0:\n",
    "        \n",
    "        if i % 100 == 0:\n",
    "            print('100th Artist found: {}. Processing {}/{}'.format(x['Artist'].values, i, total))   \n",
    "    \n",
    "        combined_csv.append(x)\n",
    "\n",
    "combined_df = pd.concat(combined_csv)\n"
   ]
  },
  {
   "cell_type": "code",
   "execution_count": null,
   "metadata": {},
   "outputs": [],
   "source": [
    "import pandas as pd\n",
    "\n",
    "# i know this is less pythonic but I need to see this working / check it. \n",
    "# also I may be able to use a progress bar this way\n",
    "\n",
    "combined_csv = []\n",
    "\n",
    "total = len(csv_files)\n",
    "\n",
    "for i, csv_file in enumerate(csv_files):\n",
    "    \n",
    "    # print('file: {}'.format(csv_file))\n",
    "    x = pd.read_csv(csv_file)\n",
    "     \n",
    "    if not pd.isna(x['Artist'].values) and x['Play Count'][0] > 0:\n",
    "        \n",
    "        if i % 100 == 0:\n",
    "            print('100th Artist found: {}. Processing {}/{}'.format(x['Artist'].values, i, total))   \n",
    "    \n",
    "        combined_csv.append(x)\n",
    "\n",
    "combined_df = pd.concat(combined_csv)"
   ]
  },
  {
   "cell_type": "markdown",
   "metadata": {},
   "source": [
    "C:\\Users\\alan__000\\PycharmProjects\\GoogleMusicDataAnalysis\\takeout_data\\Google Play Music\\combined_tracks_usr_input.csv"
   ]
  },
  {
   "cell_type": "code",
   "execution_count": null,
   "metadata": {},
   "outputs": [],
   "source": [
    "filename = input()"
   ]
  },
  {
   "cell_type": "code",
   "execution_count": null,
   "metadata": {
    "scrolled": true
   },
   "outputs": [],
   "source": [
    "if combined_df:\n",
    "    combined_df.to_csv(filename)\n",
    "    print('combined_df created')\n",
    "else:\n",
    "    print('combined_df not yet created')"
   ]
  }
 ],
 "metadata": {
  "kernelspec": {
   "display_name": "Python 3",
   "language": "python",
   "name": "python3"
  },
  "language_info": {
   "codemirror_mode": {
    "name": "ipython",
    "version": 3
   },
   "file_extension": ".py",
   "mimetype": "text/x-python",
   "name": "python",
   "nbconvert_exporter": "python",
   "pygments_lexer": "ipython3",
   "version": "3.7.3"
  }
 },
 "nbformat": 4,
 "nbformat_minor": 2
}
