{
 "cells": [
  {
   "cell_type": "markdown",
   "metadata": {},
   "source": [
    "Get the track data"
   ]
  },
  {
   "cell_type": "code",
   "execution_count": null,
   "metadata": {},
   "outputs": [],
   "source": [
    "from IPython.core.display import display, HTML\n",
    "display(HTML(\"<style>.container { width:100% !important; }</style>\"))\n",
    "\n",
    "\n",
    "import pandas as pd\n",
    "\n",
    "google_listened_to_df = pd.read_csv('C:\\\\Users\\\\alan__000\\\\PycharmProjects\\\\GoogleMusicDataAnalysis\\\\takeout_data\\\\Google Play Music\\\\combined_tracks.csv')\n",
    "\n",
    "print('track list imported')\n",
    "\n",
    "google_listened_to_df.sort_values('Play Count', ascending=False, inplace=True)\n",
    "\n",
    "display(google_listened_to_df.head())"
   ]
  },
  {
   "cell_type": "code",
   "execution_count": null,
   "metadata": {},
   "outputs": [],
   "source": [
    "google_listened_to_df = google_listened_to_df.fillna(0)\n",
    "\n",
    "headers_that_arent_playcount = list(google_listened_to_df.columns)\n",
    "display(headers_that_arent_playcount)\n",
    "headers_that_arent_playcount.remove('Play Count')\n",
    "# headers_that_arent_playcount.remove('Playlist Index')\n",
    "display(headers_that_arent_playcount)\n",
    "\n",
    "# merged_df = google_listened_to_df.groupby(headers_that_arent_playcount, as_index=False)['Play Count'].sum()\n",
    "\n",
    "merged_df = google_listened_to_df.groupby(['Artist'], as_index=False)['Play Count'].sum()\n",
    "\n",
    "merged_df.sort_values('Play Count', ascending=False, inplace=True)\n",
    "\n",
    "display(merged_df.head(10))"
   ]
  },
  {
   "cell_type": "markdown",
   "metadata": {},
   "source": [
    "Music Activity to dataframe"
   ]
  },
  {
   "cell_type": "code",
   "execution_count": null,
   "metadata": {
    "scrolled": true
   },
   "outputs": [],
   "source": [
    "google_music_activity_df = pd.read_csv('C:\\\\Users\\\\alan__000\\\\PycharmProjects\\\\GoogleMusicDataAnalysis\\\\takeout_data\\\\Google Play Music\\\\music_activity.csv')\n",
    "\n",
    "display(google_music_activity_df.head())"
   ]
  },
  {
   "cell_type": "markdown",
   "metadata": {},
   "source": [
    "lets try to find a track in each and see if we can cross reference somehow"
   ]
  },
  {
   "cell_type": "code",
   "execution_count": null,
   "metadata": {},
   "outputs": [],
   "source": [
    "display(google_music_activity_df['description'].value_counts())"
   ]
  },
  {
   "cell_type": "code",
   "execution_count": null,
   "metadata": {},
   "outputs": [],
   "source": []
  }
 ],
 "metadata": {
  "kernelspec": {
   "display_name": "Python 3",
   "language": "python",
   "name": "python3"
  },
  "language_info": {
   "codemirror_mode": {
    "name": "ipython",
    "version": 3
   },
   "file_extension": ".py",
   "mimetype": "text/x-python",
   "name": "python",
   "nbconvert_exporter": "python",
   "pygments_lexer": "ipython3",
   "version": "3.7.3"
  }
 },
 "nbformat": 4,
 "nbformat_minor": 2
}
