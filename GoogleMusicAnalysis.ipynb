{
 "cells": [
  {
   "cell_type": "markdown",
   "metadata": {
    "colab_type": "text",
    "id": "view-in-github"
   },
   "source": [
    "<a href=\"https://colab.research.google.com/github/FinancialRADDeveloper/GoogleMusicDataAnalysis/blob/master/GoogleMusicAnalysis.ipynb\" target=\"_parent\"><img src=\"https://colab.research.google.com/assets/colab-badge.svg\" alt=\"Open In Colab\"/></a>"
   ]
  },
  {
   "cell_type": "code",
   "execution_count": 10,
   "metadata": {
    "colab": {
     "base_uri": "https://localhost:8080/",
     "height": 51
    },
    "colab_type": "code",
    "id": "k8vYVd3o_aAm",
    "outputId": "fe2c1822-032d-474e-b4cd-1feac9d53db4"
   },
   "outputs": [
    {
     "data": {
      "text/plain": [
       "['activity_parser.ipynb',\n",
       " 'activity_parser.py',\n",
       " 'filename.pickle',\n",
       " 'GMusicTrackCombinator.ipynb',\n",
       " 'GoogleMusicAnalysis.ipynb',\n",
       " 'ListenedTrackAnalysis.ipynb',\n",
       " 'My Activity.json',\n",
       " 'README.md',\n",
       " 'spotify_data_wrapper.py',\n",
       " 'SpotipyNotebook.ipynb',\n",
       " 'TakeoutTrackAnalysisBlog.ipynb',\n",
       " 'Untitled.ipynb']"
      ]
     },
     "metadata": {},
     "output_type": "display_data"
    },
    {
     "data": {
      "text/plain": [
       "True"
      ]
     },
     "execution_count": 10,
     "metadata": {},
     "output_type": "execute_result"
    }
   ],
   "source": [
    "# !pwd\n",
    "# !ls\n",
    "\n",
    "\n",
    "import os\n",
    "\n",
    "os.getcwd()\n",
    "\n",
    "\n",
    "files = filter(os.path.isfile, os.listdir( os.curdir ) )  # files only\n",
    "files = [ f for f in os.listdir( os.curdir ) if os.path.isfile(f) ] #list comprehension \n",
    "display(files)\n",
    "\n",
    "os.path.isfile('My Activity.json') "
   ]
  },
  {
   "cell_type": "code",
   "execution_count": null,
   "metadata": {
    "colab": {
     "base_uri": "https://localhost:8080/",
     "height": 68
    },
    "colab_type": "code",
    "id": "GNw-Z6fi_jMx",
    "outputId": "69deed52-f91c-4604-add4-dcf7a1623fa3"
   },
   "outputs": [],
   "source": [
    "# Fetch a single file using the raw GitHub URL.\n",
    "!curl --remote-name \\\n",
    "     -H 'Accept: application/vnd.github.v3.raw' \\\n",
    "     --location https://raw.githubusercontent.com/FinancialRADDeveloper/GoogleMusicDataAnalysis/master/takeout_data/My%20Activity/Google%20Play%20Music/My%20Activity.json"
   ]
  },
  {
   "cell_type": "code",
   "execution_count": 7,
   "metadata": {
    "colab": {
     "base_uri": "https://localhost:8080/",
     "height": 1000
    },
    "colab_type": "code",
    "id": "k56bVxscxkhQ",
    "outputId": "02093315-5792-4e9a-f7e5-b7966d61b85c"
   },
   "outputs": [
    {
     "ename": "ValueError",
     "evalue": "Expected object or value",
     "output_type": "error",
     "traceback": [
      "\u001b[1;31m---------------------------------------------------------------------------\u001b[0m",
      "\u001b[1;31mValueError\u001b[0m                                Traceback (most recent call last)",
      "\u001b[1;32m<ipython-input-7-00f2949bcd3c>\u001b[0m in \u001b[0;36m<module>\u001b[1;34m\u001b[0m\n\u001b[0;32m      2\u001b[0m \u001b[1;33m\u001b[0m\u001b[0m\n\u001b[0;32m      3\u001b[0m \u001b[1;33m\u001b[0m\u001b[0m\n\u001b[1;32m----> 4\u001b[1;33m \u001b[0mactivity_data_frame\u001b[0m \u001b[1;33m=\u001b[0m \u001b[0mpd\u001b[0m\u001b[1;33m.\u001b[0m\u001b[0mread_json\u001b[0m\u001b[1;33m(\u001b[0m\u001b[1;34m'My%20Activity.json'\u001b[0m\u001b[1;33m)\u001b[0m\u001b[1;33m\u001b[0m\u001b[1;33m\u001b[0m\u001b[0m\n\u001b[0m\u001b[0;32m      5\u001b[0m \u001b[1;33m\u001b[0m\u001b[0m\n\u001b[0;32m      6\u001b[0m \u001b[0mprint\u001b[0m\u001b[1;33m(\u001b[0m\u001b[0mlen\u001b[0m\u001b[1;33m(\u001b[0m\u001b[0mactivity_df\u001b[0m\u001b[1;33m)\u001b[0m\u001b[1;33m)\u001b[0m\u001b[1;33m\u001b[0m\u001b[1;33m\u001b[0m\u001b[0m\n",
      "\u001b[1;32mE:\\Anaconda\\lib\\site-packages\\pandas\\io\\json\\json.py\u001b[0m in \u001b[0;36mread_json\u001b[1;34m(path_or_buf, orient, typ, dtype, convert_axes, convert_dates, keep_default_dates, numpy, precise_float, date_unit, encoding, lines, chunksize, compression)\u001b[0m\n\u001b[0;32m    425\u001b[0m         \u001b[1;32mreturn\u001b[0m \u001b[0mjson_reader\u001b[0m\u001b[1;33m\u001b[0m\u001b[1;33m\u001b[0m\u001b[0m\n\u001b[0;32m    426\u001b[0m \u001b[1;33m\u001b[0m\u001b[0m\n\u001b[1;32m--> 427\u001b[1;33m     \u001b[0mresult\u001b[0m \u001b[1;33m=\u001b[0m \u001b[0mjson_reader\u001b[0m\u001b[1;33m.\u001b[0m\u001b[0mread\u001b[0m\u001b[1;33m(\u001b[0m\u001b[1;33m)\u001b[0m\u001b[1;33m\u001b[0m\u001b[1;33m\u001b[0m\u001b[0m\n\u001b[0m\u001b[0;32m    428\u001b[0m     \u001b[1;32mif\u001b[0m \u001b[0mshould_close\u001b[0m\u001b[1;33m:\u001b[0m\u001b[1;33m\u001b[0m\u001b[1;33m\u001b[0m\u001b[0m\n\u001b[0;32m    429\u001b[0m         \u001b[1;32mtry\u001b[0m\u001b[1;33m:\u001b[0m\u001b[1;33m\u001b[0m\u001b[1;33m\u001b[0m\u001b[0m\n",
      "\u001b[1;32mE:\\Anaconda\\lib\\site-packages\\pandas\\io\\json\\json.py\u001b[0m in \u001b[0;36mread\u001b[1;34m(self)\u001b[0m\n\u001b[0;32m    535\u001b[0m             )\n\u001b[0;32m    536\u001b[0m         \u001b[1;32melse\u001b[0m\u001b[1;33m:\u001b[0m\u001b[1;33m\u001b[0m\u001b[1;33m\u001b[0m\u001b[0m\n\u001b[1;32m--> 537\u001b[1;33m             \u001b[0mobj\u001b[0m \u001b[1;33m=\u001b[0m \u001b[0mself\u001b[0m\u001b[1;33m.\u001b[0m\u001b[0m_get_object_parser\u001b[0m\u001b[1;33m(\u001b[0m\u001b[0mself\u001b[0m\u001b[1;33m.\u001b[0m\u001b[0mdata\u001b[0m\u001b[1;33m)\u001b[0m\u001b[1;33m\u001b[0m\u001b[1;33m\u001b[0m\u001b[0m\n\u001b[0m\u001b[0;32m    538\u001b[0m         \u001b[0mself\u001b[0m\u001b[1;33m.\u001b[0m\u001b[0mclose\u001b[0m\u001b[1;33m(\u001b[0m\u001b[1;33m)\u001b[0m\u001b[1;33m\u001b[0m\u001b[1;33m\u001b[0m\u001b[0m\n\u001b[0;32m    539\u001b[0m         \u001b[1;32mreturn\u001b[0m \u001b[0mobj\u001b[0m\u001b[1;33m\u001b[0m\u001b[1;33m\u001b[0m\u001b[0m\n",
      "\u001b[1;32mE:\\Anaconda\\lib\\site-packages\\pandas\\io\\json\\json.py\u001b[0m in \u001b[0;36m_get_object_parser\u001b[1;34m(self, json)\u001b[0m\n\u001b[0;32m    554\u001b[0m         \u001b[0mobj\u001b[0m \u001b[1;33m=\u001b[0m \u001b[1;32mNone\u001b[0m\u001b[1;33m\u001b[0m\u001b[1;33m\u001b[0m\u001b[0m\n\u001b[0;32m    555\u001b[0m         \u001b[1;32mif\u001b[0m \u001b[0mtyp\u001b[0m \u001b[1;33m==\u001b[0m \u001b[1;34m'frame'\u001b[0m\u001b[1;33m:\u001b[0m\u001b[1;33m\u001b[0m\u001b[1;33m\u001b[0m\u001b[0m\n\u001b[1;32m--> 556\u001b[1;33m             \u001b[0mobj\u001b[0m \u001b[1;33m=\u001b[0m \u001b[0mFrameParser\u001b[0m\u001b[1;33m(\u001b[0m\u001b[0mjson\u001b[0m\u001b[1;33m,\u001b[0m \u001b[1;33m**\u001b[0m\u001b[0mkwargs\u001b[0m\u001b[1;33m)\u001b[0m\u001b[1;33m.\u001b[0m\u001b[0mparse\u001b[0m\u001b[1;33m(\u001b[0m\u001b[1;33m)\u001b[0m\u001b[1;33m\u001b[0m\u001b[1;33m\u001b[0m\u001b[0m\n\u001b[0m\u001b[0;32m    557\u001b[0m \u001b[1;33m\u001b[0m\u001b[0m\n\u001b[0;32m    558\u001b[0m         \u001b[1;32mif\u001b[0m \u001b[0mtyp\u001b[0m \u001b[1;33m==\u001b[0m \u001b[1;34m'series'\u001b[0m \u001b[1;32mor\u001b[0m \u001b[0mobj\u001b[0m \u001b[1;32mis\u001b[0m \u001b[1;32mNone\u001b[0m\u001b[1;33m:\u001b[0m\u001b[1;33m\u001b[0m\u001b[1;33m\u001b[0m\u001b[0m\n",
      "\u001b[1;32mE:\\Anaconda\\lib\\site-packages\\pandas\\io\\json\\json.py\u001b[0m in \u001b[0;36mparse\u001b[1;34m(self)\u001b[0m\n\u001b[0;32m    650\u001b[0m \u001b[1;33m\u001b[0m\u001b[0m\n\u001b[0;32m    651\u001b[0m         \u001b[1;32melse\u001b[0m\u001b[1;33m:\u001b[0m\u001b[1;33m\u001b[0m\u001b[1;33m\u001b[0m\u001b[0m\n\u001b[1;32m--> 652\u001b[1;33m             \u001b[0mself\u001b[0m\u001b[1;33m.\u001b[0m\u001b[0m_parse_no_numpy\u001b[0m\u001b[1;33m(\u001b[0m\u001b[1;33m)\u001b[0m\u001b[1;33m\u001b[0m\u001b[1;33m\u001b[0m\u001b[0m\n\u001b[0m\u001b[0;32m    653\u001b[0m \u001b[1;33m\u001b[0m\u001b[0m\n\u001b[0;32m    654\u001b[0m         \u001b[1;32mif\u001b[0m \u001b[0mself\u001b[0m\u001b[1;33m.\u001b[0m\u001b[0mobj\u001b[0m \u001b[1;32mis\u001b[0m \u001b[1;32mNone\u001b[0m\u001b[1;33m:\u001b[0m\u001b[1;33m\u001b[0m\u001b[1;33m\u001b[0m\u001b[0m\n",
      "\u001b[1;32mE:\\Anaconda\\lib\\site-packages\\pandas\\io\\json\\json.py\u001b[0m in \u001b[0;36m_parse_no_numpy\u001b[1;34m(self)\u001b[0m\n\u001b[0;32m    869\u001b[0m         \u001b[1;32mif\u001b[0m \u001b[0morient\u001b[0m \u001b[1;33m==\u001b[0m \u001b[1;34m\"columns\"\u001b[0m\u001b[1;33m:\u001b[0m\u001b[1;33m\u001b[0m\u001b[1;33m\u001b[0m\u001b[0m\n\u001b[0;32m    870\u001b[0m             self.obj = DataFrame(\n\u001b[1;32m--> 871\u001b[1;33m                 loads(json, precise_float=self.precise_float), dtype=None)\n\u001b[0m\u001b[0;32m    872\u001b[0m         \u001b[1;32melif\u001b[0m \u001b[0morient\u001b[0m \u001b[1;33m==\u001b[0m \u001b[1;34m\"split\"\u001b[0m\u001b[1;33m:\u001b[0m\u001b[1;33m\u001b[0m\u001b[1;33m\u001b[0m\u001b[0m\n\u001b[0;32m    873\u001b[0m             decoded = {str(k): v for k, v in compat.iteritems(\n",
      "\u001b[1;31mValueError\u001b[0m: Expected object or value"
     ]
    }
   ],
   "source": [
    "\n",
    "import pandas as pd\n",
    "\n",
    "\n",
    "activity_data_frame = pd.read_json('My%20Activity.json')\n",
    "\n",
    "print(len(activity_df))\n",
    "\n",
    "display(activity_data_frame.head)\n"
   ]
  },
  {
   "cell_type": "code",
   "execution_count": null,
   "metadata": {
    "colab": {},
    "colab_type": "code",
    "id": "v4OfjGDHCJqF"
   },
   "outputs": [],
   "source": [
    "\n",
    "activity_data_frame['activity_datetime'] = pd.to_datetime(activity_data_frame['time'])\n",
    "\n",
    "activity_data_frame['hour'] = activity_data_frame['activity_datetime'].dt.hour\n",
    "\n",
    "listened_to_dataframe = activity_data_frame[activity_data_frame['title'].str.contains(\"Listened to\")]\n",
    "skipped_tracks_dataframe = activity_data_frame[activity_data_frame['title'].str.contains(\"Skipped\")]\n",
    "searched_activity_dataframe = activity_data_frame[activity_data_frame['title'].str.contains(\"Searched\")]\n",
    "\n",
    "listening_freq_by_hour = listened_to_dataframe['hour'].value_counts()\n",
    "skipped_freq_by_hour = skipped_tracks_dataframe['hour'].value_counts()\n",
    "search_freq_by_hour = searched_activity_dataframe['hour'].value_counts()\n",
    "\n",
    "daily_listening_stats = sorted(list(zip(listening_freq_by_hour.index.tolist(),listening_freq_by_hour.tolist())))\n",
    "skipped_stats = sorted(list(zip(skipped_freq_by_hour.index.tolist(), skipped_freq_by_hour.tolist())))\n",
    "search_stats = sorted(list(zip(search_freq_by_hour.index.tolist(), search_freq_by_hour.tolist())))\n",
    "\n",
    "import matplotlib.pyplot as plt\n",
    "\n",
    "\n",
    "plt.ion()\n",
    "\n",
    "# plt.style.use('ggplot')\n",
    "\n",
    "plt.bar([i[0] for i in daily_listening_stats], [j[1] for j in daily_listening_stats], color = 'blue')\n",
    "plt.bar([i[0] for i in skipped_stats], [j[1] for j in skipped_stats], color='red')\n",
    "plt.bar([i[0] for i in search_stats], [j[1] for j in search_stats], color='purple')\n",
    "plt.xlabel('Hour of the Day')\n",
    "plt.ylabel('Total tracks listened')\n",
    "\n",
    "plt.show()"
   ]
  },
  {
   "cell_type": "code",
   "execution_count": null,
   "metadata": {
    "colab": {},
    "colab_type": "code",
    "id": "LaOy6N09EoGL"
   },
   "outputs": [],
   "source": [
    "\n",
    "\n",
    "headers = list(listened_to_dataframe.columns)\n",
    "\n",
    "unique_vals_for_each_column = dict()\n",
    "\n",
    "a = (listened_to_dataframe.applymap(type) == list).all()\n",
    "\n",
    "for column in headers:\n",
    "\n",
    "    col_type = listened_to_dataframe[column].dtype\n",
    "\n",
    "    if bool(a[column]) is True:\n",
    "        print('Data in column {} is a list'.format(column))\n",
    "\n",
    "        # we need to do something special to make this into a tuple\n",
    "        unique_data = listened_to_dataframe[column].transform(tuple).unique()\n",
    "        unique_vals_for_each_column[str(column)] = unique_data.tolist()\n",
    "    else:\n",
    "        print('Data in column {} is NOT a list'.format(column))\n",
    "        try:\n",
    "            unique_data = listened_to_dataframe[column].unique()\n",
    "            unique_vals_for_each_column[str(column)] = unique_data.tolist()\n",
    "        except Exception as ie:\n",
    "            pass\n",
    "\n",
    "    # unique_vals_for_each_column[str(column)] = unique_data.tolist()\n",
    "\n",
    "\n",
    "unique_vals_for_each_column"
   ]
  },
  {
   "cell_type": "code",
   "execution_count": null,
   "metadata": {
    "colab": {
     "base_uri": "https://localhost:8080/",
     "height": 68
    },
    "colab_type": "code",
    "id": "jZC_-tjqFGXM",
    "outputId": "20af0f3f-f8c4-4b92-a84a-3be712df92e4"
   },
   "outputs": [],
   "source": [
    "listened_to_dataframe.columns\n",
    "\n",
    "artists_listened_to = list(listened_to_dataframe.description)\n",
    "print('Total artists listened to: {}'.format(len(artists_listened_to)))\n",
    "\n",
    "count = listened_to_dataframe.description.value_counts() \n",
    "print('Value counts: {}'.format(len(count)))\n",
    "# print(count) \n",
    "\n",
    "\n",
    "unique_artists_listened_to = list(listened_to_dataframe.description.unique())\n",
    "print('Unique artists listened to: {}'.format(len(unique_artists_listened_to)))\n",
    "\n",
    "sorted_list_of_artists = sorted(unique_artists_listened_to)\n",
    "\n",
    "# sorted_list_of_artists"
   ]
  },
  {
   "cell_type": "code",
   "execution_count": null,
   "metadata": {
    "colab": {
     "base_uri": "https://localhost:8080/",
     "height": 487
    },
    "colab_type": "code",
    "id": "n7kOshMEs-eD",
    "outputId": "71d90ee0-f83a-4d1e-b181-41974bffd64c"
   },
   "outputs": [],
   "source": [
    "import pandas as pd\n",
    "\n",
    "\n",
    "def main():\n",
    "\n",
    "    try:\n",
    "        print(\"Attempting to load JSON to DataFrame\")\n",
    "        gmusic_activity_df = load_json_to_dataframe()\n",
    "\n",
    "        new_df = filter_out_skipped(gmusic_activity_df)\n",
    "\n",
    "        calculate_hourly_activity(gmusic_activity_df)\n",
    "\n",
    "        unique_vals = get_unique_vals_for_each_column(gmusic_activity_df)\n",
    "        print(\"Finished load JSON to DataFrame\")\n",
    "\n",
    "    except Exception as e:\n",
    "\n",
    "        print(e)\n",
    "\n",
    "\n",
    "def load_json_to_dataframe():\n",
    "  \n",
    "    try:\n",
    "  \n",
    "      print('test')\n",
    "\n",
    "      return pd.read_json('My%20Activity.json')\n",
    "    \n",
    "    except Exception as e:\n",
    "\n",
    "      print(e)\n",
    "\n",
    "\n",
    "def get_unique_vals_for_each_column(dataframe):\n",
    "\n",
    "    headers = list(dataframe.columns)\n",
    "\n",
    "    unique_vals_for_each_column = dict()\n",
    "\n",
    "    a = (dataframe.applymap(type) == list).all()\n",
    "\n",
    "    for column in headers:\n",
    "\n",
    "        col_type = dataframe[column].dtype\n",
    "\n",
    "        if bool(a[column]) is True:\n",
    "            print('Data in column {} is a list'.format(column))\n",
    "\n",
    "            # we need to do something special to make this into a tuple\n",
    "            unique_data = dataframe[column].transform(tuple).unique()\n",
    "            unique_vals_for_each_column[str(column)] = unique_data.tolist()\n",
    "        else:\n",
    "            print('Data in column {} is NOT a list'.format(column))\n",
    "            try:\n",
    "                unique_data = dataframe[column].unique()\n",
    "                unique_vals_for_each_column[str(column)] = unique_data.tolist()\n",
    "            except Exception as ie:\n",
    "                pass\n",
    "\n",
    "        # unique_vals_for_each_column[str(column)] = unique_data.tolist()\n",
    "\n",
    "\n",
    "    return unique_vals_for_each_column\n",
    "\n",
    "\n",
    "def filter_out_skipped(activity_data_frame):\n",
    "\n",
    "    listened_to_dataframe = activity_data_frame[activity_data_frame['title'].str.contains(\"Listened to\")]\n",
    "\n",
    "    skipped_tracks_dataframe = activity_data_frame[activity_data_frame['title'].str.contains(\"Skipped\")]\n",
    "\n",
    "    searched_activity_dataframe = activity_data_frame[activity_data_frame['title'].str.contains(\"Searched\")]\n",
    "\n",
    "    other_activity_dataframe = activity_data_frame[~activity_data_frame['title'].str.contains(\"Listened to\")]\n",
    "    other_activity_dataframe = other_activity_dataframe[~other_activity_dataframe['title'].str.contains(\"Skipped\")]\n",
    "\n",
    "    return listened_to_dataframe\n",
    "\n",
    "def calculate_hourly_activity(activity_data_frame):\n",
    "\n",
    "    string_activity_dates = activity_data_frame['time'].tolist()\n",
    "\n",
    "    # converted_dates = []\n",
    "\n",
    "    # for i, elem in enumerate(string_activity_dates):\n",
    "    #     converted_dates.append(parser.parse(elem))\n",
    "    #     # elem = parser.parse(elem)\n",
    "    #\n",
    "    # activity_data_frame['datetime_time'] = converted_dates\n",
    "\n",
    "    activity_data_frame['activity_datetime'] = pd.to_datetime(activity_data_frame['time'])\n",
    "\n",
    "    activity_data_frame['hour'] = activity_data_frame['activity_datetime'].dt.hour\n",
    "\n",
    "    listened_to_dataframe = activity_data_frame[activity_data_frame['title'].str.contains(\"Listened to\")]\n",
    "    skipped_tracks_dataframe = activity_data_frame[activity_data_frame['title'].str.contains(\"Skipped\")]\n",
    "    searched_activity_dataframe = activity_data_frame[activity_data_frame['title'].str.contains(\"Searched\")]\n",
    "\n",
    "    listening_freq_by_hour = listened_to_dataframe['hour'].value_counts()\n",
    "    skipped_freq_by_hour = skipped_tracks_dataframe['hour'].value_counts()\n",
    "    search_freq_by_hour = searched_activity_dataframe['hour'].value_counts()\n",
    "\n",
    "    daily_listening_stats = sorted(list(zip(listening_freq_by_hour.index.tolist(),listening_freq_by_hour.tolist())))\n",
    "    skipped_stats = sorted(list(zip(skipped_freq_by_hour.index.tolist(), skipped_freq_by_hour.tolist())))\n",
    "    search_stats = sorted(list(zip(search_freq_by_hour.index.tolist(), search_freq_by_hour.tolist())))\n",
    "\n",
    "    import matplotlib.pyplot as plt\n",
    "\n",
    "\n",
    "    plt.ion()\n",
    "\n",
    "    # plt.style.use('ggplot')\n",
    "\n",
    "    plt.bar([i[0] for i in daily_listening_stats], [j[1] for j in daily_listening_stats], color = 'blue')\n",
    "    plt.bar([i[0] for i in skipped_stats], [j[1] for j in skipped_stats], color='red')\n",
    "    plt.bar([i[0] for i in search_stats], [j[1] for j in search_stats], color='purple')\n",
    "    plt.xlabel('Hour of the Day')\n",
    "    plt.ylabel('Total tracks listened')\n",
    "\n",
    "    plt.show()\n",
    "#     plt.close()\n",
    "\n",
    "\n",
    "    # first we need to convert the column into a date time\n",
    "    # activity_data_frame['ActivityDateTime'] = pd.to_datetime(activity_data_frame['time'],\n",
    "    #                                                        format='%Y-%m-%d %H:%M:%S-%Z',\n",
    "    #                                                        errors='coerce')\n",
    "    # then extract the hour from the date time\n",
    "    # activity_data_frame['activity_hour'] = activity_data_frame['datetime_time']\n",
    "\n",
    "\n",
    "    # then get the frequency of each hour\n",
    "\n",
    "    # then I guess we want to feed this into some sort of Jupyter notebook\n",
    "\n",
    "    pass\n",
    "\n",
    "\n",
    "\n",
    "\n",
    "\n",
    "if __name__ == \"__main__\":\n",
    "    main()\n",
    "\n"
   ]
  }
 ],
 "metadata": {
  "colab": {
   "collapsed_sections": [],
   "include_colab_link": true,
   "name": "GoogleMusicAnalysis.ipynb",
   "provenance": [],
   "version": "0.3.2"
  },
  "kernelspec": {
   "display_name": "Python 3",
   "language": "python",
   "name": "python3"
  },
  "language_info": {
   "codemirror_mode": {
    "name": "ipython",
    "version": 3
   },
   "file_extension": ".py",
   "mimetype": "text/x-python",
   "name": "python",
   "nbconvert_exporter": "python",
   "pygments_lexer": "ipython3",
   "version": "3.7.3"
  }
 },
 "nbformat": 4,
 "nbformat_minor": 1
}
