{
 "cells": [
  {
   "cell_type": "markdown",
   "metadata": {
    "id": "view-in-github",
    "colab_type": "text"
   },
   "source": [
    "<a href=\"https://colab.research.google.com/github/FinancialRADDeveloper/GoogleMusicDataAnalysis/blob/master/GoogleMusicAnalysis.ipynb\" target=\"_parent\"><img src=\"https://colab.research.google.com/assets/colab-badge.svg\" alt=\"Open In Colab\"/></a>"
   ]
  },
  {
   "cell_type": "code",
   "execution_count": 0,
   "metadata": {
    "id": "k8vYVd3o_aAm",
    "colab_type": "code",
    "outputId": "fe2c1822-032d-474e-b4cd-1feac9d53db4",
    "colab": {
     "base_uri": "https://localhost:8080/",
     "height": 51.0
    }
   },
   "outputs": [
    {
     "name": "stdout",
     "output_type": "stream",
     "text": [
      "/content\n",
      "My%20Activity.json  sample_data\n"
     ]
    }
   ],
   "source": [
    "!pwd\n",
    "!ls\n"
   ]
  },
  {
   "cell_type": "code",
   "execution_count": 0,
   "metadata": {
    "id": "GNw-Z6fi_jMx",
    "colab_type": "code",
    "outputId": "69deed52-f91c-4604-add4-dcf7a1623fa3",
    "colab": {
     "base_uri": "https://localhost:8080/",
     "height": 68.0
    }
   },
   "outputs": [
    {
     "name": "stdout",
     "output_type": "stream",
     "text": [
      "  % Total    % Received % Xferd  Average Speed   Time    Time     Time  Current\n",
      "                                 Dload  Upload   Total   Spent    Left  Speed\n",
      "100 4673k  100 4673k    0     0  12.5M      0 --:--:-- --:--:-- --:--:-- 12.5M\n"
     ]
    }
   ],
   "source": [
    "# Fetch a single file using the raw GitHub URL.\n",
    "!curl --remote-name \\\n",
    "     -H 'Accept: application/vnd.github.v3.raw' \\\n",
    "     --location https://raw.githubusercontent.com/FinancialRADDeveloper/GoogleMusicDataAnalysis/master/takeout_data/My%20Activity/Google%20Play%20Music/My%20Activity.json"
   ]
  },
  {
   "cell_type": "code",
   "execution_count": 0,
   "metadata": {
    "id": "k56bVxscxkhQ",
    "colab_type": "code",
    "outputId": "02093315-5792-4e9a-f7e5-b7966d61b85c",
    "colab": {
     "base_uri": "https://localhost:8080/",
     "height": 1000.0
    }
   },
   "outputs": [
    {
     "name": "stdout",
     "output_type": "stream",
     "text": [
      "21287\n"
     ]
    },
    {
     "data": {
      "text/plain": [
       "<bound method NDFrame.head of                                         description  ...                                           titleUrl\n",
       "0                     Slovak Philharmonic Orchestra  ...                                                NaN\n",
       "1                     Slovak Philharmonic Orchestra  ...                                                NaN\n",
       "2                                      David Guetta  ...                                                NaN\n",
       "3      David Guetta & Cedric Gervais & Chris Willis  ...                                                NaN\n",
       "4      David Guetta & Cedric Gervais & Chris Willis  ...                                                NaN\n",
       "5                                 R3HAB & Icona Pop  ...                                                NaN\n",
       "6                                            Avicii  ...                                                NaN\n",
       "7                                      David Guetta  ...                                                NaN\n",
       "8                                            Sigala  ...                                                NaN\n",
       "9                                            Tiësto  ...                                                NaN\n",
       "10                                    Martin Garrix  ...                                                NaN\n",
       "11                                    Calvin Harris  ...                                                NaN\n",
       "12                                         Bakermat  ...                                                NaN\n",
       "13                                     Robin Schulz  ...                                                NaN\n",
       "14                                    Calvin Harris  ...                                                NaN\n",
       "15                                        Klingande  ...                                                NaN\n",
       "16                                             Kygo  ...                                                NaN\n",
       "17                                        Klingande  ...                                                NaN\n",
       "18                        Dimitri Vegas & Like Mike  ...                                                NaN\n",
       "19                                           Avicii  ...                                                NaN\n",
       "20                                      Ummet Ozcan  ...                                                NaN\n",
       "21                                      Ummet Ozcan  ...                                                NaN\n",
       "22     David Guetta & Cedric Gervais & Chris Willis  ...                                                NaN\n",
       "23                                           Avicii  ...                                                NaN\n",
       "24                                    Calvin Harris  ...                                                NaN\n",
       "25                                   Michael Calfan  ...                                                NaN\n",
       "26                                R3HAB & Icona Pop  ...                                                NaN\n",
       "27                                     David Guetta  ...                                                NaN\n",
       "28                          Afrojack & David Guetta  ...                                                NaN\n",
       "29                                             Kygo  ...                                                NaN\n",
       "...                                             ...  ...                                                ...\n",
       "21257                                           NaN  ...  https://play.google.com/music/search/that+mitc...\n",
       "21258                                           NaN  ...      https://play.google.com/music/search/the+1975\n",
       "21259                                           NaN  ...      https://play.google.com/music/search/palmdale\n",
       "21260                                           NaN  ...  https://play.google.com/music/search/now+thats...\n",
       "21261                                           NaN  ...  https://play.google.com/music/search/big+mountain\n",
       "21262                                           NaN  ...         https://play.google.com/music/search/sigma\n",
       "21263                                           NaN  ...     https://play.google.com/music/search/classical\n",
       "21264                                           NaN  ...  https://play.google.com/music/search/today%27s...\n",
       "21265                                           NaN  ...  https://play.google.com/music/search/today%27s...\n",
       "21266                                           NaN  ...  https://play.google.com/music/search/today%27s...\n",
       "21267                                           NaN  ...  https://play.google.com/music/search/they+see+...\n",
       "21268                                           NaN  ...  https://play.google.com/music/search/i%27m+gon...\n",
       "21269                                           NaN  ...     https://play.google.com/music/search/classical\n",
       "21270                                           NaN  ...  https://play.google.com/music/search/sorry+jus...\n",
       "21271                                           NaN  ...     https://play.google.com/music/search/nate+dogg\n",
       "21272                                           NaN  ...           https://play.google.com/music/search/dre\n",
       "21273                                           NaN  ...  https://play.google.com/music/search/nuthin%27...\n",
       "21274                                           NaN  ...      https://play.google.com/music/search/warren+g\n",
       "21275                                           NaN  ...  https://play.google.com/music/search/thug+life...\n",
       "21276                                           NaN  ...  https://play.google.com/music/search/sorry+jus...\n",
       "21277                                           NaN  ...  https://play.google.com/music/search/that+mitc...\n",
       "21278                                           NaN  ...       https://play.google.com/music/search/killers\n",
       "21279                                           NaN  ...       https://play.google.com/music/search/killers\n",
       "21280                                           NaN  ...  https://play.google.com/music/search/kings+of+...\n",
       "21281                                           NaN  ...  https://play.google.com/music/search/land+down...\n",
       "21282                                           NaN  ...          https://play.google.com/music/search/toto\n",
       "21283                                           NaN  ...     https://play.google.com/music/search/new+years\n",
       "21284                                           NaN  ...  https://play.google.com/music/search/classical...\n",
       "21285                                           NaN  ...    https://play.google.com/music/search/bubl%C3%A9\n",
       "21286                                           NaN  ...  https://play.google.com/music/search/mariah+ca...\n",
       "\n",
       "[21287 rows x 7 columns]>"
      ]
     },
     "execution_count": 18,
     "metadata": {
      "tags": []
     },
     "output_type": "execute_result"
    }
   ],
   "source": [
    "\n",
    "import pandas as pd\n",
    "\n",
    "\n",
    "activity_data_frame = pd.read_json('My%20Activity.json')\n",
    "\n",
    "print(len(activity_df))\n",
    "\n",
    "activity_data_frame.head \n"
   ]
  },
  {
   "cell_type": "code",
   "execution_count": 0,
   "metadata": {
    "id": "v4OfjGDHCJqF",
    "colab_type": "code",
    "colab": {}
   },
   "outputs": [],
   "source": [
    "\n",
    "activity_data_frame['activity_datetime'] = pd.to_datetime(activity_data_frame['time'])\n",
    "\n",
    "activity_data_frame['hour'] = activity_data_frame['activity_datetime'].dt.hour\n",
    "\n",
    "listened_to_dataframe = activity_data_frame[activity_data_frame['title'].str.contains(\"Listened to\")]\n",
    "skipped_tracks_dataframe = activity_data_frame[activity_data_frame['title'].str.contains(\"Skipped\")]\n",
    "searched_activity_dataframe = activity_data_frame[activity_data_frame['title'].str.contains(\"Searched\")]\n",
    "\n",
    "listening_freq_by_hour = listened_to_dataframe['hour'].value_counts()\n",
    "skipped_freq_by_hour = skipped_tracks_dataframe['hour'].value_counts()\n",
    "search_freq_by_hour = searched_activity_dataframe['hour'].value_counts()\n",
    "\n",
    "daily_listening_stats = sorted(list(zip(listening_freq_by_hour.index.tolist(),listening_freq_by_hour.tolist())))\n",
    "skipped_stats = sorted(list(zip(skipped_freq_by_hour.index.tolist(), skipped_freq_by_hour.tolist())))\n",
    "search_stats = sorted(list(zip(search_freq_by_hour.index.tolist(), search_freq_by_hour.tolist())))\n",
    "\n",
    "import matplotlib.pyplot as plt\n",
    "\n",
    "\n",
    "plt.ion()\n",
    "\n",
    "# plt.style.use('ggplot')\n",
    "\n",
    "plt.bar([i[0] for i in daily_listening_stats], [j[1] for j in daily_listening_stats], color = 'blue')\n",
    "plt.bar([i[0] for i in skipped_stats], [j[1] for j in skipped_stats], color='red')\n",
    "plt.bar([i[0] for i in search_stats], [j[1] for j in search_stats], color='purple')\n",
    "plt.xlabel('Hour of the Day')\n",
    "plt.ylabel('Total tracks listened')\n",
    "\n",
    "plt.show()"
   ]
  },
  {
   "cell_type": "code",
   "execution_count": 0,
   "metadata": {
    "id": "LaOy6N09EoGL",
    "colab_type": "code",
    "colab": {}
   },
   "outputs": [],
   "source": [
    "\n",
    "\n",
    "headers = list(listened_to_dataframe.columns)\n",
    "\n",
    "unique_vals_for_each_column = dict()\n",
    "\n",
    "a = (listened_to_dataframe.applymap(type) == list).all()\n",
    "\n",
    "for column in headers:\n",
    "\n",
    "    col_type = listened_to_dataframe[column].dtype\n",
    "\n",
    "    if bool(a[column]) is True:\n",
    "        print('Data in column {} is a list'.format(column))\n",
    "\n",
    "        # we need to do something special to make this into a tuple\n",
    "        unique_data = listened_to_dataframe[column].transform(tuple).unique()\n",
    "        unique_vals_for_each_column[str(column)] = unique_data.tolist()\n",
    "    else:\n",
    "        print('Data in column {} is NOT a list'.format(column))\n",
    "        try:\n",
    "            unique_data = listened_to_dataframe[column].unique()\n",
    "            unique_vals_for_each_column[str(column)] = unique_data.tolist()\n",
    "        except Exception as ie:\n",
    "            pass\n",
    "\n",
    "    # unique_vals_for_each_column[str(column)] = unique_data.tolist()\n",
    "\n",
    "\n",
    "unique_vals_for_each_column"
   ]
  },
  {
   "cell_type": "code",
   "execution_count": 45,
   "metadata": {
    "id": "jZC_-tjqFGXM",
    "colab_type": "code",
    "colab": {
     "base_uri": "https://localhost:8080/",
     "height": 68.0
    },
    "outputId": "20af0f3f-f8c4-4b92-a84a-3be712df92e4"
   },
   "outputs": [
    {
     "name": "stdout",
     "output_type": "stream",
     "text": [
      "Total artists listened to: 18961\n",
      "value counts: 2718\n",
      "Unique artists listened to: 2718\n"
     ]
    }
   ],
   "source": [
    "listened_to_dataframe.columns\n",
    "\n",
    "artists_listened_to = list(listened_to_dataframe.description)\n",
    "print('Total artists listened to: {}'.format(len(artists_listened_to)))\n",
    "\n",
    "count = listened_to_dataframe.description.value_counts() \n",
    "print('Value counts: {}'.format(len(count)))\n",
    "# print(count) \n",
    "\n",
    "\n",
    "unique_artists_listened_to = list(listened_to_dataframe.description.unique())\n",
    "print('Unique artists listened to: {}'.format(len(unique_artists_listened_to)))\n",
    "\n",
    "sorted_list_of_artists = sorted(unique_artists_listened_to)\n",
    "\n",
    "# sorted_list_of_artists"
   ]
  },
  {
   "cell_type": "code",
   "execution_count": 0,
   "metadata": {
    "id": "n7kOshMEs-eD",
    "colab_type": "code",
    "outputId": "71d90ee0-f83a-4d1e-b181-41974bffd64c",
    "colab": {
     "base_uri": "https://localhost:8080/",
     "height": 487.0
    }
   },
   "outputs": [
    {
     "name": "stdout",
     "output_type": "stream",
     "text": [
      "Attempting to load JSON to DataFrame\n",
      "test\n"
     ]
    },
    {
     "data": {
      "image/png": "[encoded data removed]",
      "text/plain": [
       "<Figure size 432x288 with 1 Axes>"
      ]
     },
     "metadata": {
      "tags": []
     },
     "output_type": "display_data"
    },
    {
     "name": "stdout",
     "output_type": "stream",
     "text": [
      "Data in column description is NOT a list\n",
      "Data in column header is NOT a list\n",
      "Data in column products is a list\n",
      "Data in column subtitles is NOT a list\n",
      "Data in column time is NOT a list\n",
      "Data in column title is NOT a list\n",
      "Data in column titleUrl is NOT a list\n",
      "Data in column activity_datetime is NOT a list\n",
      "Data in column hour is NOT a list\n",
      "Finished load JSON to DataFrame\n"
     ]
    }
   ],
   "source": [
    "import pandas as pd\n",
    "\n",
    "\n",
    "def main():\n",
    "\n",
    "    try:\n",
    "        print(\"Attempting to load JSON to DataFrame\")\n",
    "        gmusic_activity_df = load_json_to_dataframe()\n",
    "\n",
    "        new_df = filter_out_skipped(gmusic_activity_df)\n",
    "\n",
    "        calculate_hourly_activity(gmusic_activity_df)\n",
    "\n",
    "        unique_vals = get_unique_vals_for_each_column(gmusic_activity_df)\n",
    "        print(\"Finished load JSON to DataFrame\")\n",
    "\n",
    "    except Exception as e:\n",
    "\n",
    "        print(e)\n",
    "\n",
    "\n",
    "def load_json_to_dataframe():\n",
    "  \n",
    "    try:\n",
    "  \n",
    "      print('test')\n",
    "\n",
    "      return pd.read_json('My%20Activity.json')\n",
    "    \n",
    "    except Exception as e:\n",
    "\n",
    "      print(e)\n",
    "\n",
    "\n",
    "def get_unique_vals_for_each_column(dataframe):\n",
    "\n",
    "    headers = list(dataframe.columns)\n",
    "\n",
    "    unique_vals_for_each_column = dict()\n",
    "\n",
    "    a = (dataframe.applymap(type) == list).all()\n",
    "\n",
    "    for column in headers:\n",
    "\n",
    "        col_type = dataframe[column].dtype\n",
    "\n",
    "        if bool(a[column]) is True:\n",
    "            print('Data in column {} is a list'.format(column))\n",
    "\n",
    "            # we need to do something special to make this into a tuple\n",
    "            unique_data = dataframe[column].transform(tuple).unique()\n",
    "            unique_vals_for_each_column[str(column)] = unique_data.tolist()\n",
    "        else:\n",
    "            print('Data in column {} is NOT a list'.format(column))\n",
    "            try:\n",
    "                unique_data = dataframe[column].unique()\n",
    "                unique_vals_for_each_column[str(column)] = unique_data.tolist()\n",
    "            except Exception as ie:\n",
    "                pass\n",
    "\n",
    "        # unique_vals_for_each_column[str(column)] = unique_data.tolist()\n",
    "\n",
    "\n",
    "    return unique_vals_for_each_column\n",
    "\n",
    "\n",
    "def filter_out_skipped(activity_data_frame):\n",
    "\n",
    "    listened_to_dataframe = activity_data_frame[activity_data_frame['title'].str.contains(\"Listened to\")]\n",
    "\n",
    "    skipped_tracks_dataframe = activity_data_frame[activity_data_frame['title'].str.contains(\"Skipped\")]\n",
    "\n",
    "    searched_activity_dataframe = activity_data_frame[activity_data_frame['title'].str.contains(\"Searched\")]\n",
    "\n",
    "    other_activity_dataframe = activity_data_frame[~activity_data_frame['title'].str.contains(\"Listened to\")]\n",
    "    other_activity_dataframe = other_activity_dataframe[~other_activity_dataframe['title'].str.contains(\"Skipped\")]\n",
    "\n",
    "    return listened_to_dataframe\n",
    "\n",
    "def calculate_hourly_activity(activity_data_frame):\n",
    "\n",
    "    string_activity_dates = activity_data_frame['time'].tolist()\n",
    "\n",
    "    # converted_dates = []\n",
    "\n",
    "    # for i, elem in enumerate(string_activity_dates):\n",
    "    #     converted_dates.append(parser.parse(elem))\n",
    "    #     # elem = parser.parse(elem)\n",
    "    #\n",
    "    # activity_data_frame['datetime_time'] = converted_dates\n",
    "\n",
    "    activity_data_frame['activity_datetime'] = pd.to_datetime(activity_data_frame['time'])\n",
    "\n",
    "    activity_data_frame['hour'] = activity_data_frame['activity_datetime'].dt.hour\n",
    "\n",
    "    listened_to_dataframe = activity_data_frame[activity_data_frame['title'].str.contains(\"Listened to\")]\n",
    "    skipped_tracks_dataframe = activity_data_frame[activity_data_frame['title'].str.contains(\"Skipped\")]\n",
    "    searched_activity_dataframe = activity_data_frame[activity_data_frame['title'].str.contains(\"Searched\")]\n",
    "\n",
    "    listening_freq_by_hour = listened_to_dataframe['hour'].value_counts()\n",
    "    skipped_freq_by_hour = skipped_tracks_dataframe['hour'].value_counts()\n",
    "    search_freq_by_hour = searched_activity_dataframe['hour'].value_counts()\n",
    "\n",
    "    daily_listening_stats = sorted(list(zip(listening_freq_by_hour.index.tolist(),listening_freq_by_hour.tolist())))\n",
    "    skipped_stats = sorted(list(zip(skipped_freq_by_hour.index.tolist(), skipped_freq_by_hour.tolist())))\n",
    "    search_stats = sorted(list(zip(search_freq_by_hour.index.tolist(), search_freq_by_hour.tolist())))\n",
    "\n",
    "    import matplotlib.pyplot as plt\n",
    "\n",
    "\n",
    "    plt.ion()\n",
    "\n",
    "    # plt.style.use('ggplot')\n",
    "\n",
    "    plt.bar([i[0] for i in daily_listening_stats], [j[1] for j in daily_listening_stats], color = 'blue')\n",
    "    plt.bar([i[0] for i in skipped_stats], [j[1] for j in skipped_stats], color='red')\n",
    "    plt.bar([i[0] for i in search_stats], [j[1] for j in search_stats], color='purple')\n",
    "    plt.xlabel('Hour of the Day')\n",
    "    plt.ylabel('Total tracks listened')\n",
    "\n",
    "    plt.show()\n",
    "#     plt.close()\n",
    "\n",
    "\n",
    "    # first we need to convert the column into a date time\n",
    "    # activity_data_frame['ActivityDateTime'] = pd.to_datetime(activity_data_frame['time'],\n",
    "    #                                                        format='%Y-%m-%d %H:%M:%S-%Z',\n",
    "    #                                                        errors='coerce')\n",
    "    # then extract the hour from the date time\n",
    "    # activity_data_frame['activity_hour'] = activity_data_frame['datetime_time']\n",
    "\n",
    "\n",
    "    # then get the frequency of each hour\n",
    "\n",
    "    # then I guess we want to feed this into some sort of Jupyter notebook\n",
    "\n",
    "    pass\n",
    "\n",
    "\n",
    "\n",
    "\n",
    "\n",
    "if __name__ == \"__main__\":\n",
    "    main()\n",
    "\n"
   ]
  }
 ],
 "metadata": {
  "colab": {
   "name": "GoogleMusicAnalysis.ipynb",
   "version": "0.3.2",
   "provenance": [],
   "collapsed_sections": [],
   "include_colab_link": true
  },
  "kernelspec": {
   "name": "python3",
   "display_name": "Python 3"
  }
 },
 "nbformat": 4,
 "nbformat_minor": 0
}
