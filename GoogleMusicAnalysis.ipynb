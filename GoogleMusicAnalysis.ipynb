{
  "nbformat": 4,
  "nbformat_minor": 0,
  "metadata": {
    "colab": {
      "name": "Untitled1.ipynb",
      "version": "0.3.2",
      "provenance": [],
      "include_colab_link": true
    },
    "kernelspec": {
      "name": "python3",
      "display_name": "Python 3"
    }
  },
  "cells": [
    {
      "cell_type": "markdown",
      "metadata": {
        "id": "view-in-github",
        "colab_type": "text"
      },
      "source": [
        "<a href=\"https://colab.research.google.com/github/FinancialRADDeveloper/GoogleMusicDataAnalysis/blob/master/GoogleMusicAnalysis.ipynb\" target=\"_parent\"><img src=\"https://colab.research.google.com/assets/colab-badge.svg\" alt=\"Open In Colab\"/></a>"
      ]
    },
    {
      "cell_type": "code",
      "metadata": {
        "id": "n7kOshMEs-eD",
        "colab_type": "code",
        "colab": {
          "base_uri": "https://localhost:8080/",
          "height": 34
        },
        "outputId": "80c0716c-ca32-4ba3-962d-2b6f4546e411"
      },
      "source": [
        "# !pip install spotipy\n",
        "\n",
        "import pandas as pd\n",
        "\n",
        "df = pd.DataFrame([1,2,2,222,3,5], columns=['numbers'])\n",
        "\n",
        "df.numbers.tolist()\n",
        "\n",
        "# import spotipy\n"
      ],
      "execution_count": 15,
      "outputs": [
        {
          "output_type": "execute_result",
          "data": {
            "text/plain": [
              "[1, 2, 2, 222, 3, 5]"
            ]
          },
          "metadata": {
            "tags": []
          },
          "execution_count": 15
        }
      ]
    },
    {
      "cell_type": "code",
      "metadata": {
        "id": "5f7wjLXuucn_",
        "colab_type": "code",
        "colab": {
          "base_uri": "https://localhost:8080/",
          "height": 51
        },
        "outputId": "cf502bdd-ae83-4b38-90be-dde8954d9b22"
      },
      "source": [
        "x = input('Client Code: ')\n",
        "\n",
        "print(x * 2)"
      ],
      "execution_count": 20,
      "outputs": [
        {
          "output_type": "stream",
          "text": [
            "Client Code: dwecv  vghv thdfv ythdv thvfth vh \n",
            "dwecv  vghv thdfv ythdv thvfth vh dwecv  vghv thdfv ythdv thvfth vh \n"
          ],
          "name": "stdout"
        }
      ]
    }
  ]
}